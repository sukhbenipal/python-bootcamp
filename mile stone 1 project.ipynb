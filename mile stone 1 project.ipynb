{
 "cells": [
  {
   "cell_type": "code",
   "execution_count": null,
   "metadata": {},
   "outputs": [],
   "source": [
    "def board(matrix):\n",
    "    print(matrix[0]+'|'+matrix[1]+'|'+matrix[2])\n",
    "    print('-'*10)\n",
    "    print(matrix[3]+'|'+matrix[4]+'|'+matrix[5])\n",
    "    print('-'*10)\n",
    "    print(matrix[6]+'|'+matrix[7]+'|'+matrix[8])\n",
    "    return matrix\n",
    "    "
   ]
  },
  {
   "cell_type": "code",
   "execution_count": null,
   "metadata": {},
   "outputs": [],
   "source": [
    "def input_user():\n",
    "    choice= True\n",
    "    while choice:\n",
    "        user_choice = (input('Please enter a number [1-9] follows order of calculator keys. '))\n",
    "        if user_choice =='':\n",
    "            choice = True\n",
    "        elif user_choice in ['9','1','2','3','4','5','6','7','8']:\n",
    "            user_choice = int(user_choice)\n",
    "            choice = False \n",
    "        else:\n",
    "            print('Please enter a number in [0-8]')\n",
    "            choice = True\n",
    "    return user_choice-1"
   ]
  },
  {
   "cell_type": "code",
   "execution_count": null,
   "metadata": {},
   "outputs": [],
   "source": [
    "def change_board(lis,mark):\n",
    "    count =0\n",
    "    user_in = input_user()\n",
    "    while lis[user_in] =='X' or lis[user_in] =='O':\n",
    "        print('Input place is already full. Please enter different value. ')\n",
    "        user_in = input_user()\n",
    "    lis[user_in] = mark\n",
    "    return lis\n"
   ]
  },
  {
   "cell_type": "code",
   "execution_count": null,
   "metadata": {},
   "outputs": [],
   "source": [
    "def set_rules(l):\n",
    "    if (l[0] =='X' and l[1] == 'X' and l[2] == 'X') or (l[3] == 'X' and l[4] == 'X' and l[5] =='X') or (l[6] == 'X' and l[7] == 'X' and l[8] == 'X'):\n",
    "        return ' XWON'\n",
    "    elif (l[0] == 'X' and l[3]  == 'X' and l[6] == 'X' ) or (l[1] == 'X' and l[4] == 'X' and l[7] == 'X') or (l[2] == 'X' and l[5] == 'X' and l[8] == 'X'):\n",
    "        return 'XWON'\n",
    "    elif (l[0] == 'X' and l[4] == 'X' and l[8] == 'X') or (l[2] == 'X' and l[4] == 'X' and l[6] == 'X'):\n",
    "        return 'XWON'\n",
    "    elif (l[0] =='O' and l[1] == 'O' and l[2] == 'O') or (l[3] == 'O' and l[4] == 'O' and l[5] =='O') or (l[6] == 'O' and l[7] == 'O' and l[8] == 'O'):\n",
    "        return ' OWON'\n",
    "    elif (l[0] == 'O' and l[3]  == 'O' and l[6] == 'O' ) or (l[1] == 'O' and l[4] == 'O' and l[7] == 'O') or (l[2] == 'O' and l[5] == 'O' and l[8] == 'O'):\n",
    "        return 'OWON'\n",
    "    elif (l[0] == 'O' and l[4] == 'O' and l[8] == 'O') or (l[2] == 'O' and l[4] == 'O' and l[6] == 'O'):\n",
    "        return 'OWON'"
   ]
  },
  {
   "cell_type": "code",
   "execution_count": null,
   "metadata": {},
   "outputs": [],
   "source": [
    "from IPython.display import clear_output\n",
    "import numpy as np\n",
    "\n",
    "lis = ['  ','  ','  ','  ','  ','  ','  ','  ','  ']\n",
    "board(lis)\n",
    "result = True\n",
    "count=0\n",
    "mark=' X '\n",
    "while result:\n",
    "    if count%2==0:\n",
    "        mark = 'X' \n",
    "    else:\n",
    "        mark = 'O' \n",
    "    lis = change_board(lis,mark)\n",
    "    count+=1\n",
    "    if set_rules(lis) == 'XWON':\n",
    "        result = False\n",
    "        re='X won'\n",
    "    elif set_rules(lis) == 'OWON':\n",
    "        result = False\n",
    "        re='O won'\n",
    "    elif count ==9:\n",
    "        result = False\n",
    "        re='Match Tied'\n",
    "    clear_output()\n",
    "    board(lis)\n",
    "if set_rules(lis) == 'XWON' or 'OWON':\n",
    "    print('\\n')\n",
    "    print('.'*10)\n",
    "    print(re)\n",
    "    print('.'*10)"
   ]
  },
  {
   "cell_type": "code",
   "execution_count": null,
   "metadata": {},
   "outputs": [],
   "source": []
  }
 ],
 "metadata": {
  "kernelspec": {
   "display_name": "Python 3",
   "language": "python",
   "name": "python3"
  },
  "language_info": {
   "codemirror_mode": {
    "name": "ipython",
    "version": 3
   },
   "file_extension": ".py",
   "mimetype": "text/x-python",
   "name": "python",
   "nbconvert_exporter": "python",
   "pygments_lexer": "ipython3",
   "version": "3.8.3"
  }
 },
 "nbformat": 4,
 "nbformat_minor": 4
}
