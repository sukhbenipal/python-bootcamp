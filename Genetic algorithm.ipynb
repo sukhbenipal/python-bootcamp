{
 "cells": [
  {
   "cell_type": "markdown",
   "metadata": {},
   "source": [
    "We are optimizing our weights 'w' in such a way that the equation w1.x1+w2.x2+......w6.x6 should be maximum"
   ]
  },
  {
   "cell_type": "code",
   "execution_count": null,
   "metadata": {},
   "outputs": [],
   "source": [
    "# input to genetic algorithm\n",
    "input_x = [2,-34,35,15,-21,-1.7]\n",
    "# number of weight to optimize\n",
    "num_weights = 6"
   ]
  },
  {
   "cell_type": "code",
   "execution_count": null,
   "metadata": {},
   "outputs": [],
   "source": [
    "import numpy as np\n",
    "import numpy"
   ]
  },
  {
   "cell_type": "code",
   "execution_count": null,
   "metadata": {},
   "outputs": [],
   "source": [
    "pop_number = 8\n",
    "\n",
    "# define population size: pop_size will have pop_number of choromosomes where each choromosome is set of six weights\n",
    "pop_size = (pop_number,num_weights)\n",
    "\n",
    "# initialize the population\n",
    "new_pop = np.random.uniform(low=-4.0, high=4.0, size=pop_size)\n"
   ]
  },
  {
   "cell_type": "code",
   "execution_count": null,
   "metadata": {},
   "outputs": [],
   "source": [
    "def cal_pop_fitness(input_eq,popu):\n",
    "    fitness = np.sum(popu*input_eq, axis=1)\n",
    "    return fitness"
   ]
  },
  {
   "cell_type": "code",
   "execution_count": null,
   "metadata": {},
   "outputs": [],
   "source": [
    "def select_mating_pool(popu, fitness, num_parents):\n",
    "    parents = np.empty((num_parents, popu.shape[1]))\n",
    "    for parents_num in range(num_parents):\n",
    "        fitness_idx = np.where((fitness == np.max(fitness)))\n",
    "        fitness_idx = fitness_idx[0][0]\n",
    "        parents[parents_num,:] = popu[fitness_idx,:]\n",
    "        fitness[fitness_idx] = -99999999999\n",
    "    return parents\n",
    "        "
   ]
  },
  {
   "cell_type": "code",
   "execution_count": null,
   "metadata": {},
   "outputs": [],
   "source": [
    "def crossover(parents, off_size):\n",
    "    off_size_1 = np.empty(off_size)\n",
    "    #crossover at center\n",
    "    cross_point = np.uint8(off_size[1]/2)\n",
    "    for k in range(off_size[0]):\n",
    "        parent_1_idx = k%parents.shape[0]\n",
    "        parent_2_idx = (k+1)%parents.shape[0]\n",
    "        #new offspring\n",
    "        off_size_1[k,0:cross_point] = parents[parent_1_idx, 0:cross_point]\n",
    "        off_size_1[k, cross_point:] = parents[parent_2_idx, cross_point:]\n",
    "    return off_size_1\n",
    "        "
   ]
  },
  {
   "cell_type": "code",
   "execution_count": null,
   "metadata": {},
   "outputs": [],
   "source": [
    "def mutation(offspring):\n",
    "    for idx in range(offspring.shape[0]):\n",
    "        random_value = np.random.uniform(-1.0, 1.0, 1)\n",
    "        offspring[idx, 4] = offspring[idx, 4] + random_value\n",
    "    return offspring"
   ]
  },
  {
   "cell_type": "code",
   "execution_count": null,
   "metadata": {},
   "outputs": [],
   "source": [
    "num_parents = 4\n",
    "num_generations = 5\n",
    "print(new_pop)\n",
    "for gen in range(num_generations):\n",
    "    #fitness of chormosome\n",
    "    fitness = cal_pop_fitness(input_x, new_pop)\n",
    "    #selection of best parents\n",
    "    best_parent = select_mating_pool(new_pop, fitness, num_parents)\n",
    "    #crossover \n",
    "    cross = crossover(best_parent, (pop_size[0]-best_parent.shape[0],num_weights))\n",
    "    #mutation\n",
    "    muta = mutation(cross)\n",
    "    #new parents\n",
    "    new_pop[0:best_parent.shape[0],:] = best_parent\n",
    "    new_pop[best_parent.shape[0]:,:] = muta\n",
    "    print(\"Best result : \", numpy.max(numpy.sum(new_pop*input_x, axis=1)))\n",
    "    fitness = cal_pop_fitness(input_x, new_pop)\n",
    "# Then return the index of that solution corresponding to the best fitness.\n",
    "best_match_idx = np.where(fitness == np.max(fitness))\n",
    "\n",
    "print(\"Best solution : \", new_pop[best_match_idx, :])\n"
   ]
  },
  {
   "cell_type": "code",
   "execution_count": null,
   "metadata": {},
   "outputs": [],
   "source": []
  }
 ],
 "metadata": {
  "kernelspec": {
   "display_name": "Python 3",
   "language": "python",
   "name": "python3"
  },
  "language_info": {
   "codemirror_mode": {
    "name": "ipython",
    "version": 3
   },
   "file_extension": ".py",
   "mimetype": "text/x-python",
   "name": "python",
   "nbconvert_exporter": "python",
   "pygments_lexer": "ipython3",
   "version": "3.8.3"
  }
 },
 "nbformat": 4,
 "nbformat_minor": 4
}
